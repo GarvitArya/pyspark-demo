{
  "nbformat": 4,
  "nbformat_minor": 0,
  "metadata": {
    "colab": {
      "name": "pyspark",
      "provenance": [],
      "authorship_tag": "ABX9TyOfAYZoddX5/p4UyHEpz/5Q",
      "include_colab_link": true
    },
    "kernelspec": {
      "name": "python3",
      "display_name": "Python 3"
    },
    "language_info": {
      "name": "python"
    }
  },
  "cells": [
    {
      "cell_type": "markdown",
      "metadata": {
        "id": "view-in-github",
        "colab_type": "text"
      },
      "source": [
        "<a href=\"https://colab.research.google.com/github/GarvitArya/pyspark-demo/blob/main/pyspark.ipynb\" target=\"_parent\"><img src=\"https://colab.research.google.com/assets/colab-badge.svg\" alt=\"Open In Colab\"/></a>"
      ]
    },
    {
      "cell_type": "markdown",
      "metadata": {
        "id": "sCJilX-ybl7c"
      },
      "source": [
        "# PySpark on Google Colab 101"
      ]
    },
    {
      "cell_type": "markdown",
      "metadata": {
        "id": "o8uL463oFKkv"
      },
      "source": [
        "In this article, we will see how we can run PySpark in a Google Colaboratory notebook. We will also perform some basic data exploratory tasks common to most data science problems. So, let’s get cracking!"
      ]
    },
    {
      "cell_type": "code",
      "metadata": {
        "id": "ixLSds_jw4Ff"
      },
      "source": [
        "!apt-get install openjdk-8-jdk-headless -qq > /dev/null"
      ],
      "execution_count": null,
      "outputs": []
    },
    {
      "cell_type": "code",
      "metadata": {
        "id": "WA4ebxjl8IR3"
      },
      "source": [
        "!wget -q https://www-us.apache.org/dist/spark/spark-3.1.2/spark-3.1.2-bin-hadoop2.7.tgz"
      ],
      "execution_count": null,
      "outputs": []
    },
    {
      "cell_type": "code",
      "metadata": {
        "id": "7otLhujY8IUy"
      },
      "source": [
        "!tar xf spark-3.1.2-bin-hadoop2.7.tgz"
      ],
      "execution_count": null,
      "outputs": []
    },
    {
      "cell_type": "code",
      "metadata": {
        "id": "cSZL-2_T8IYH"
      },
      "source": [
        "!pip install -q findspark"
      ],
      "execution_count": null,
      "outputs": []
    },
    {
      "cell_type": "code",
      "metadata": {
        "id": "_Rvkvf2Vw6Fo"
      },
      "source": [
        "import os\n",
        "os.environ[\"JAVA_HOME\"] = \"/usr/lib/jvm/java-8-openjdk-amd64\"\n",
        "os.environ[\"SPARK_HOME\"] = \"/content/spark-3.1.2-bin-hadoop2.7\""
      ],
      "execution_count": null,
      "outputs": []
    },
    {
      "cell_type": "code",
      "metadata": {
        "id": "alfg07gY8759"
      },
      "source": [
        "import findspark\n",
        "findspark.init()"
      ],
      "execution_count": null,
      "outputs": []
    },
    {
      "cell_type": "code",
      "metadata": {
        "id": "0X6A0Wip73Kr"
      },
      "source": [
        "from pyspark.sql import SparkSession\n",
        "# spark = SparkSession.builder.master(\"local[*]\").getOrCreate()\n",
        "spark = SparkSession.builder\\\n",
        "        .master(\"local\")\\\n",
        "        .appName(\"Colab\")\\\n",
        "        .config('spark.ui.port', '4050')\\\n",
        "        .getOrCreate()"
      ],
      "execution_count": null,
      "outputs": []
    },
    {
      "cell_type": "code",
      "metadata": {
        "colab": {
          "base_uri": "https://localhost:8080/",
          "height": 216
        },
        "id": "hkPDlNNO9RF-",
        "outputId": "9a6c7831-0891-49b8-b7ec-98386db679c3"
      },
      "source": [
        "spark"
      ],
      "execution_count": null,
      "outputs": [
        {
          "output_type": "execute_result",
          "data": {
            "text/html": [
              "\n",
              "            <div>\n",
              "                <p><b>SparkSession - in-memory</b></p>\n",
              "                \n",
              "        <div>\n",
              "            <p><b>SparkContext</b></p>\n",
              "\n",
              "            <p><a href=\"http://0e8fa8bbbcba:4050\">Spark UI</a></p>\n",
              "\n",
              "            <dl>\n",
              "              <dt>Version</dt>\n",
              "                <dd><code>v3.1.2</code></dd>\n",
              "              <dt>Master</dt>\n",
              "                <dd><code>local</code></dd>\n",
              "              <dt>AppName</dt>\n",
              "                <dd><code>Colab</code></dd>\n",
              "            </dl>\n",
              "        </div>\n",
              "        \n",
              "            </div>\n",
              "        "
            ],
            "text/plain": [
              "<pyspark.sql.session.SparkSession at 0x7f8e1c87bb10>"
            ]
          },
          "metadata": {
            "tags": []
          },
          "execution_count": 18
        }
      ]
    },
    {
      "cell_type": "code",
      "metadata": {
        "id": "aFlJRezL9txG",
        "colab": {
          "base_uri": "https://localhost:8080/"
        },
        "outputId": "39ba9926-5fd8-4bed-e2b8-f5ea3f8e7d13"
      },
      "source": [
        "!wget --continue https://raw.githubusercontent.com/GarvitArya/pyspark-demo/main/sample_books.json -O /tmp/sample_books.json"
      ],
      "execution_count": null,
      "outputs": [
        {
          "output_type": "stream",
          "text": [
            "--2021-07-03 13:37:24--  https://raw.githubusercontent.com/GarvitArya/pyspark-demo/main/sample_books.json\n",
            "Resolving raw.githubusercontent.com (raw.githubusercontent.com)... 185.199.108.133, 185.199.109.133, 185.199.110.133, ...\n",
            "Connecting to raw.githubusercontent.com (raw.githubusercontent.com)|185.199.108.133|:443... connected.\n",
            "HTTP request sent, awaiting response... 200 OK\n",
            "Length: 1565 (1.5K) [text/plain]\n",
            "Saving to: ‘/tmp/sample_books.json’\n",
            "\n",
            "\r/tmp/sample_books.j   0%[                    ]       0  --.-KB/s               \r/tmp/sample_books.j 100%[===================>]   1.53K  --.-KB/s    in 0s      \n",
            "\n",
            "2021-07-03 13:37:24 (23.3 MB/s) - ‘/tmp/sample_books.json’ saved [1565/1565]\n",
            "\n"
          ],
          "name": "stdout"
        }
      ]
    },
    {
      "cell_type": "code",
      "metadata": {
        "id": "zEA-RW5Sw6aD"
      },
      "source": [
        " \n",
        "# Read JSON file into dataframe\n",
        "df = spark.read.json(\"/tmp/sample_books.json\")\n"
      ],
      "execution_count": null,
      "outputs": []
    },
    {
      "cell_type": "code",
      "metadata": {
        "colab": {
          "base_uri": "https://localhost:8080/"
        },
        "id": "0thOUfXb96AI",
        "outputId": "1bce649f-9749-4bf9-bafe-a1d04d380b77"
      },
      "source": [
        "df.printSchema()\n"
      ],
      "execution_count": null,
      "outputs": [
        {
          "output_type": "stream",
          "text": [
            "root\n",
            " |-- author: string (nullable = true)\n",
            " |-- edition: string (nullable = true)\n",
            " |-- price: double (nullable = true)\n",
            " |-- title: string (nullable = true)\n",
            " |-- year_written: long (nullable = true)\n",
            "\n"
          ],
          "name": "stdout"
        }
      ]
    },
    {
      "cell_type": "code",
      "metadata": {
        "colab": {
          "base_uri": "https://localhost:8080/"
        },
        "id": "b6ZlToW096NF",
        "outputId": "16c132ce-c463-4493-94a4-7678ef743494"
      },
      "source": [
        "df.show(20,False)"
      ],
      "execution_count": null,
      "outputs": [
        {
          "output_type": "stream",
          "text": [
            "+--------------------+-----------------+-----+-----------------------------+------------+\n",
            "|author              |edition          |price|title                        |year_written|\n",
            "+--------------------+-----------------+-----+-----------------------------+------------+\n",
            "|Austen, Jane        |Penguin          |18.2 |Northanger Abbey             |1814        |\n",
            "|Tolstoy, Leo        |Penguin          |12.7 |War and Peace                |1865        |\n",
            "|Tolstoy, Leo        |Penguin          |13.5 |Anna Karenina                |1875        |\n",
            "|Woolf, Virginia     |Harcourt Brace   |25.0 |Mrs. Dalloway                |1925        |\n",
            "|Cunnningham, Michael|Harcourt Brace   |12.35|The Hours                    |1999        |\n",
            "|Twain, Mark         |Penguin          |5.76 |Huckleberry Finn             |1865        |\n",
            "|Dickens, Charles    |Random House     |5.75 |Bleak House                  |1870        |\n",
            "|Twain, Mark         |Random House     |7.75 |Tom Sawyer                   |1862        |\n",
            "|Woolf, Virginia     |Penguin          |29.0 |A Room of One's Own          |1922        |\n",
            "|Rowling, J.K.       |Harcourt Brace   |19.95|Harry Potter                 |2000        |\n",
            "|Marquez             |Harper  Perennial|14.0 |One Hundred Years of Solitude|1967        |\n",
            "|Shakespeare         |Signet  Classics |7.95 |Hamlet, Prince of Denmark    |1603        |\n",
            "|Tolkien, J.R.       |Penguin          |27.45|Lord of the Rings            |1937        |\n",
            "+--------------------+-----------------+-----+-----------------------------+------------+\n",
            "\n"
          ],
          "name": "stdout"
        }
      ]
    },
    {
      "cell_type": "code",
      "metadata": {
        "colab": {
          "base_uri": "https://localhost:8080/"
        },
        "id": "dk7pbSKN-chR",
        "outputId": "b372fc1f-431b-4543-f62a-c74c8b6bb08d"
      },
      "source": [
        "df.count()"
      ],
      "execution_count": null,
      "outputs": [
        {
          "output_type": "execute_result",
          "data": {
            "text/plain": [
              "13"
            ]
          },
          "metadata": {
            "tags": []
          },
          "execution_count": 41
        }
      ]
    },
    {
      "cell_type": "code",
      "metadata": {
        "colab": {
          "base_uri": "https://localhost:8080/"
        },
        "id": "OeAe8N4a-ckh",
        "outputId": "dfdf9359-6fb5-4224-eeb2-3b9b4bb81a9b"
      },
      "source": [
        "df.select(\"title\", \"price\", \"year_written\").show(5)"
      ],
      "execution_count": null,
      "outputs": [
        {
          "output_type": "stream",
          "text": [
            "+----------------+-----+------------+\n",
            "|           title|price|year_written|\n",
            "+----------------+-----+------------+\n",
            "|Northanger Abbey| 18.2|        1814|\n",
            "|   War and Peace| 12.7|        1865|\n",
            "|   Anna Karenina| 13.5|        1875|\n",
            "|   Mrs. Dalloway| 25.0|        1925|\n",
            "|       The Hours|12.35|        1999|\n",
            "+----------------+-----+------------+\n",
            "only showing top 5 rows\n",
            "\n"
          ],
          "name": "stdout"
        }
      ]
    },
    {
      "cell_type": "code",
      "metadata": {
        "id": "b4U6xkov-cnG"
      },
      "source": [
        "df_filtered = df.filter(\"year_written > 1950 AND price > 10 AND title IS NOT NULL\")"
      ],
      "execution_count": null,
      "outputs": []
    },
    {
      "cell_type": "code",
      "metadata": {
        "colab": {
          "base_uri": "https://localhost:8080/"
        },
        "id": "plXRfFBq-cpu",
        "outputId": "47765369-2b80-4a9f-db35-574efbabea4b"
      },
      "source": [
        "df_filtered.select(\"title\", \"price\", \"year_written\").show(5, False)"
      ],
      "execution_count": null,
      "outputs": [
        {
          "output_type": "stream",
          "text": [
            "+-----------------------------+-----+------------+\n",
            "|title                        |price|year_written|\n",
            "+-----------------------------+-----+------------+\n",
            "|The Hours                    |12.35|1999        |\n",
            "|Harry Potter                 |19.95|2000        |\n",
            "|One Hundred Years of Solitude|14.0 |1967        |\n",
            "+-----------------------------+-----+------------+\n",
            "\n"
          ],
          "name": "stdout"
        }
      ]
    },
    {
      "cell_type": "code",
      "metadata": {
        "colab": {
          "base_uri": "https://localhost:8080/"
        },
        "id": "GptKFTU6BMDw",
        "outputId": "a3a2cf35-1b15-44a1-8ddf-7ae7c0e20bf2"
      },
      "source": [
        "df_filtered.count()"
      ],
      "execution_count": null,
      "outputs": [
        {
          "output_type": "execute_result",
          "data": {
            "text/plain": [
              "3"
            ]
          },
          "metadata": {
            "tags": []
          },
          "execution_count": 57
        }
      ]
    },
    {
      "cell_type": "code",
      "metadata": {
        "colab": {
          "base_uri": "https://localhost:8080/"
        },
        "id": "FGy_2ERoCNWk",
        "outputId": "d2e296be-c8f2-4f9d-8d31-5fe4fb6c9cfd"
      },
      "source": [
        "df_filtered.show(20, False)"
      ],
      "execution_count": null,
      "outputs": [
        {
          "output_type": "stream",
          "text": [
            "+--------------------+-----------------+-----+-----------------------------+------------+\n",
            "|author              |edition          |price|title                        |year_written|\n",
            "+--------------------+-----------------+-----+-----------------------------+------------+\n",
            "|Cunnningham, Michael|Harcourt Brace   |12.35|The Hours                    |1999        |\n",
            "|Rowling, J.K.       |Harcourt Brace   |19.95|Harry Potter                 |2000        |\n",
            "|Marquez             |Harper  Perennial|14.0 |One Hundred Years of Solitude|1967        |\n",
            "+--------------------+-----------------+-----+-----------------------------+------------+\n",
            "\n"
          ],
          "name": "stdout"
        }
      ]
    },
    {
      "cell_type": "code",
      "metadata": {
        "colab": {
          "base_uri": "https://localhost:8080/"
        },
        "id": "86qDvFyPCNZm",
        "outputId": "adf0ad02-d5fd-4b1e-e8d8-9efbdf13a45b"
      },
      "source": [
        "df_filtered.select(\"title\", \"year_written\").filter(\"title LIKE '%Harry Potter%'\").distinct().show(20, False)\n"
      ],
      "execution_count": null,
      "outputs": [
        {
          "output_type": "stream",
          "text": [
            "+------------+------------+\n",
            "|title       |year_written|\n",
            "+------------+------------+\n",
            "|Harry Potter|2000        |\n",
            "+------------+------------+\n",
            "\n"
          ],
          "name": "stdout"
        }
      ]
    },
    {
      "cell_type": "code",
      "metadata": {
        "id": "JB-dU5rqE2vj"
      },
      "source": [
        "from pyspark.sql.functions import max\n",
        "# Find the costliest book\n",
        "\n",
        "maxValue = df_filtered.agg(max(\"price\")).collect()[0][0]\n",
        "print(\"maxValue: \",maxValue)\n",
        "df_filtered.select(\"title\",\"price\").filter(df.price == maxValue).show(20, False)"
      ],
      "execution_count": null,
      "outputs": []
    }
  ]
}